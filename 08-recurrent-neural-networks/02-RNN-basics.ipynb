{
 "cells": [
  {
   "cell_type": "markdown",
   "metadata": {},
   "source": [
    "# Intro to Recurrent Neural Networks\n",
    "\n",
    "Recurrent Neural Networks (RNN) are another specialization within the neural network family designed to work specifically with sequence data. The most common types of data to use with RNN's are time series data and textual data (natural language, programming languages, log files, and so on).\n",
    "\n",
    "Sequence data, and especially variable length sequence data, presents significant challenges for other models in the neural network family (and many other kinds of models) for a few reasons including:\n",
    "\n",
    "### Most models, ANN's included, require a fixed input size.\n",
    "\n",
    "This is fine for some problems, looking at a fixed-size time window for weather prediction is perfectly reasonable. But it's a non-starter for problems like machine translation where arbitrary text documents (from single sentences to complete books) must be handled for the system to be worth anything. \n",
    "\n",
    "Earlier models working with sequence data often involved a preprocessing step that smashes variable length data into a fixed length feature vector. One of the simplest examples of this tactic is called the \"Bag of Words\" where a textual input is reduced to the number of times any given word appears in that data-point. The result of a \"Bag of Words\" transformation is a vector where each position represents one of the words in the entire corpus vocabulary, the integer value in that position represents how many times that word occurs in the data-point.  \n",
    "\n",
    "This enconding for text is problimatic and limiting, as we discussed previously. For example, \"live to work\" and \"work to live\"  will result in the same \"bag of words\" encoding although all English speakers recognize the sentences are opposites of each other. \n",
    "\n",
    "One dimenstional CNN's can be used to solve this problem to some extent, although they are somewhat limited by the kernel size with respect to how far backwards in the sequence they can look at once. \n",
    "\n",
    "### Most models, including ANN's requre a fixed output size.\n",
    "\n",
    "Similar to the above many sequence tasks (such as machine translation) require arbitrary length output, which is a non-starter for both ANNs and CNNs.\n",
    "\n",
    "## RNNs Solve These Problems By Maintaining Internal State\n",
    "\n",
    "The core idea of an RNN makes a lot of people raise their eyebrows at first, but it is actually quite simple. In addition to the weights and biases used in a traditional ANN, the RNN introduces a \"state vector\" which is internal to the recurrent nodes. This is sometimes drawn in a confusing way such as this illustration from [one of the readings](https://towardsdatascience.com/illustrated-guide-to-recurrent-neural-networks-79e5eb8049c9):\n",
    "\n",
    "![](https://miro.medium.com/max/106/1*h_cfQuMl30szUkDAi7wrCA.png)\n",
    "\n",
    "The idea is that this node is passing some information *to itself* across a series of sequental calls, one for each data point in the sequence (this could be time steps in a time series, words in a sentence, or characters in a string of text). \n",
    "\n",
    "This is true, but I think it's easier to imagine the state vector as a piece of memory internal to the node which is  updated (even during inference) for each piece of data in the input sequence:\n",
    "\n",
    "\n",
    "![](assets/single-rnn-node.png)\n",
    "\n",
    "X0 is the first input of the sequence (e.g. first word, first time step, or first character), y0 is the cell's output, and the state vector, like the weights matrix, is internal to the cell. However, unlike the weights, the state vector changes during forward passes instead of just during back-propagation. So, when we move on to the second piece of data in the sequence we have something like this:\n",
    "\n",
    "![](assets/two-rnn-node.png)\n",
    "\n",
    "The forward pass on datapoint X0 modified the internal state vector, so this is often drawn with an arrow connecting the whole cell to itself in a subsequent timestep, such as this drawing, from [another one of the readings](https://karpathy.github.io/2015/05/21/rnn-effectiveness/):\n",
    "\n",
    "![](https://karpathy.github.io/assets/rnn/diags.jpeg)\n",
    "\n",
    "The hidden state vector contains all the information that the network has accumulated about the sequence so far. Similar to a markov chain, RNN's implicitly assume that this vector is rich enough to capture all the relevant information about what has been processed earlier in the sequence (for examples, which words have already been seen).\n",
    "\n",
    "The forward pass for a vanilla RNN works like this (assuming an activation function of tanh):\n",
    "\n",
    "```\n",
    "# Hidden state is updated:\n",
    "#   W_hh (the weights for the hidden state vector)\n",
    "#   W_xh (the weights for x)\n",
    "#   self.h (the actual hidden state)\n",
    "self.h = np.tanh(np.dot(self.W_hh, self.h) + np.dot(self.W_xh, x))\n",
    "\n",
    "# Compute the output\n",
    "#   self.W_xy (the weights for the output)\n",
    "y = np.dot(self.W_hy, self.h)\n",
    "\n",
    "return y\n",
    "```\n",
    "\n",
    "The output y can be passed to other neural network layers as usual, and the hidden state is carried over across the current sequence (but is reinitialized for each new sequence, usually to zero!) \n",
    "\n",
    "**Note** that there are 3 sets of weights:\n",
    "\n",
    "* One that learns to transform the hidden state each timestep,\n",
    "* One that learns to transform to the X input data at each timestep,\n",
    "* One that learns to create the output based on the hidden state at each timestep.\n",
    "\n",
    "## Backpropagation Over Time\n",
    "\n",
    "To understand how backpropagation works with these models, it's best to think about \"unrolling\" the model as we saw in the diagram above:\n",
    "\n",
    "\n",
    "![](https://karpathy.github.io/assets/rnn/diags.jpeg)\n",
    "\n",
    "For each output, we compute a loss and the gradients flow backwards through the entire \"unrolled\" network. This has a few implications:\n",
    "\n",
    "* The shared weight matricies are updated multiple times per backprop step. \n",
    "    * This exacerbates the exploding and vanishing gradient problems.\n",
    "* It makes the model memory intensive during training, since the hidden states at each timestep have to be retained during training (but not during inference).\n",
    "* Training is typically slow, since both during the forward passes and backpropagation there are dependencies over time — e.g. you must finish calculating the values for x0 before computing the values for x1, meaning we cannot leverage parallelism and GPU hardware nearly as well as we could with CNNs and ANNs.\n",
    "\n",
    "\n",
    "## Okay, Lets Build our First RNN:\n",
    "\n",
    "As usual, Tensorflow makes things super easy:"
   ]
  },
  {
   "cell_type": "code",
   "execution_count": 1,
   "metadata": {},
   "outputs": [
    {
     "name": "stdout",
     "output_type": "stream",
     "text": [
      "Model: \"sequential\"\n",
      "_________________________________________________________________\n",
      "Layer (type)                 Output Shape              Param #   \n",
      "=================================================================\n",
      "embedding (Embedding)        (None, None, 64)          64000     \n",
      "_________________________________________________________________\n",
      "simple_rnn (SimpleRNN)       (None, 128)               24704     \n",
      "_________________________________________________________________\n",
      "dense (Dense)                (None, 1)                 129       \n",
      "=================================================================\n",
      "Total params: 88,833\n",
      "Trainable params: 88,833\n",
      "Non-trainable params: 0\n",
      "_________________________________________________________________\n"
     ]
    }
   ],
   "source": [
    "import numpy as np\n",
    "import tensorflow as tf\n",
    "from tensorflow import keras\n",
    "from tensorflow.keras import layers\n",
    "\n",
    "model = keras.Sequential()\n",
    "\n",
    "# Add an Embedding layer expecting input vocab of size 1000, and\n",
    "# output embedding dimension of size 64, meaning a vector with 64 values.\n",
    "model.add(layers.Embedding(input_dim=1000, output_dim=64))\n",
    "\n",
    "# Add a Simple RNN layer with 128 internal units.\n",
    "# This means the \"hidden state\" will be a 128 length vector!\n",
    "model.add(layers.SimpleRNN(128)) # Default activation is Tanh\n",
    "\n",
    "# Lets say we're building a binary classification system...\n",
    "model.add(layers.Dense(1, activation='sigmoid'))\n",
    "\n",
    "model.summary()\n"
   ]
  },
  {
   "cell_type": "markdown",
   "metadata": {},
   "source": [
    "## Preparing training data\n",
    "\n",
    "We're going to use a dataset from the wonderful `tensorflow-datasets` package, a collection of IMDB reviews."
   ]
  },
  {
   "cell_type": "code",
   "execution_count": 2,
   "metadata": {},
   "outputs": [
    {
     "name": "stdout",
     "output_type": "stream",
     "text": [
      "text:  b\"This was an absolutely terrible movie. Don't be lured in by Christopher Walken or Michael Ironside. Both are great actors, but this must simply be their worst role in history. Even their great acting could not redeem this movie's ridiculous storyline. This movie is an early nineties US propaganda piece. The most pathetic scenes were those when the Columbian rebels were making their cases for revolutions. Maria Conchita Alonso appeared phony, and her pseudo-love affair with Walken was nothing but a pathetic emotional plug in a movie that was devoid of any real meaning. I am disappointed that there are movies like this, ruining actor's like Christopher Walken's good name. I could barely sit through it.\"\n",
      "label:  0\n",
      "\n",
      "\n",
      "\n",
      "text:  b'I have been known to fall asleep during films, but this is usually due to a combination of things including, really tired, being warm and comfortable on the sette and having just eaten a lot. However on this occasion I fell asleep because the film was rubbish. The plot development was constant. Constantly slow and boring. Things seemed to happen, but with no explanation of what was causing them or why. I admit, I may have missed part of the film, but i watched the majority of it and everything just seemed to happen of its own accord without any real concern for anything else. I cant recommend this film at all.'\n",
      "label:  0\n",
      "\n",
      "\n",
      "\n",
      "text:  b'Mann photographs the Alberta Rocky Mountains in a superb fashion, and Jimmy Stewart and Walter Brennan give enjoyable performances as they always seem to do. <br /><br />But come on Hollywood - a Mountie telling the people of Dawson City, Yukon to elect themselves a marshal (yes a marshal!) and to enforce the law themselves, then gunfighters battling it out on the streets for control of the town? <br /><br />Nothing even remotely resembling that happened on the Canadian side of the border during the Klondike gold rush. Mr. Mann and company appear to have mistaken Dawson City for Deadwood, the Canadian North for the American Wild West.<br /><br />Canadian viewers be prepared for a Reefer Madness type of enjoyable howl with this ludicrous plot, or, to shake your head in disgust.'\n",
      "label:  0\n",
      "\n",
      "\n",
      "\n",
      "text:  b'This is the kind of film for a snowy Sunday afternoon when the rest of the world can go ahead with its own business as you descend into a big arm-chair and mellow for a couple of hours. Wonderful performances from Cher and Nicolas Cage (as always) gently row the plot along. There are no rapids to cross, no dangerous waters, just a warm and witty paddle through New York life at its best. A family film in every sense and one that deserves the praise it received.'\n",
      "label:  1\n",
      "\n",
      "\n",
      "\n",
      "text:  b'As others have mentioned, all the women that go nude in this film are mostly absolutely gorgeous. The plot very ably shows the hypocrisy of the female libido. When men are around they want to be pursued, but when no \"men\" are around, they become the pursuers of a 14 year old boy. And the boy becomes a man really fast (we should all be so lucky at this age!). He then gets up the courage to pursue his true love.'\n",
      "label:  1\n",
      "\n",
      "\n",
      "\n"
     ]
    }
   ],
   "source": [
    "import tensorflow_datasets as tfds\n",
    "\n",
    "# Grab the reviews and extra information\n",
    "dataset, info = tfds.load('imdb_reviews', with_info=True,\n",
    "                          as_supervised=True)\n",
    "\n",
    "# Split them into train/test\n",
    "train_dataset, test_dataset = dataset['train'], dataset['test']\n",
    "\n",
    "\n",
    "# Lets look at some examples from the dataset\n",
    "for example, label in train_dataset.take(5):\n",
    "    print('text: ', example.numpy()) # .numpy here grabs the value inside a tensor, and has to do with the Dataset class\n",
    "    print('label: ', label.numpy())\n",
    "    print('\\n\\n')"
   ]
  },
  {
   "cell_type": "code",
   "execution_count": 3,
   "metadata": {},
   "outputs": [],
   "source": [
    "# A couple tensorflow oddities.\n",
    "# Shuffle the dataset is always a good idea for optimization purposes.\n",
    "# And giving the data a batch size is required for fit.\n",
    "BUFFER_SIZE = 10000\n",
    "BATCH_SIZE = 64\n",
    "\n",
    "train_dataset = train_dataset.shuffle(BUFFER_SIZE).batch(BATCH_SIZE).prefetch(tf.data.experimental.AUTOTUNE)\n",
    "test_dataset = test_dataset.batch(BATCH_SIZE).prefetch(tf.data.experimental.AUTOTUNE)"
   ]
  },
  {
   "cell_type": "markdown",
   "metadata": {},
   "source": [
    "# Vectorization And Embedding\n",
    "\n",
    "Although we said earlier that embedding layers take words as input, that's not quite true. In fact they expect a single integer representing the word. We're going to use a TextVectorization class to create this mapping. This mapping has nothing to do with semantic meaning, instead it simply maps a word to an integer based on the order that they appear in our training dataset, or by their frequency (e.g. most frequent word -> 0, second most -> 1, third most -> 2, and so on).\n",
    "\n",
    "We can specify a vocabulary size, which will place a limit on how many words get mappings, other words will be mapped to a special token meaning \"unknown word\" which will also be used anytime a word appears in the test set that wasn't in the training set (a common problem with proper nouns, for example)."
   ]
  },
  {
   "cell_type": "code",
   "execution_count": 4,
   "metadata": {},
   "outputs": [],
   "source": [
    "from tensorflow.keras.layers.experimental.preprocessing import TextVectorization\n",
    "\n",
    "# Setting a max vocab size of 1000 will cause the 1000 most common words\n",
    "# to get tokens, and anything else to map to the out-of-vocabulary or UNK token.\n",
    "VOCAB_SIZE=1000\n",
    "\n",
    "encoder = TextVectorization(max_tokens=VOCAB_SIZE)\n",
    "\n",
    "# Adapt fits the encoder to the training data\n",
    "# The map function is mapping a (text, label) tuple to just the text, and is an \n",
    "# idiosyncrasy of the tf Dataset class.\n",
    "encoder.adapt(train_dataset.map(lambda text, label: text))"
   ]
  },
  {
   "cell_type": "code",
   "execution_count": 7,
   "metadata": {
    "scrolled": false
   },
   "outputs": [
    {
     "name": "stdout",
     "output_type": "stream",
     "text": [
      "['' '[UNK]' 'the' 'and' 'a' 'of' 'to' 'is' 'in' 'it' 'i' 'this' 'that'\n",
      " 'br' 'was' 'as' 'for' 'with' 'movie' 'but']\n",
      "\n",
      "\n",
      "\n",
      "b'In the film Kongwon-do ui him it features a relatively intimate look into the meaningfulness (as well as general meaninglessness) into the lives of various Koreans; empty people seeking ways to fill themselves, enjoying the escapism of nature. From the beginning to the end of the film we observe the fallibility of the various characters; we learn of their shortcomings and their desires, the overall complexity captured within human life (and yet the overal simplicity of humanity). Although the film is slow-moving, it can be very contemplative. It does not force any ideas, but allows the ideas to come about themselves, it allows the concepts to reveal themselves.<br /><br />The film ends as well and as suddenly as it begins, and one truly understands the meaning of aloneness, that love is often an act of selfishness, and the many mistakes that we make. It is a look into everyday life, very well and beautifully done.<br /><br />If you are looking for action or for intense drama, this is not the film for you. However, if you enjoy honest, original, and meaningful films that are not forced and without glitz, this is a great film to watch.'\n",
      "[  8   2  20   1   1  89   9 908   4   1   1 163  78   2   1  15  74  15\n",
      " 806   1  78   2 457   5 956   1   1  83   1 763   6   1 520   1   2   1\n",
      "   5 862  36   2 445   6   2 129   5   2  20  72   1   2   1   5   2 956\n",
      " 102  72 821   5  65   1   3  65   1   2 432   1   1 729 401 119   3 241\n",
      "   2   1   1   5   1 255   2  20   7   1   9  69  28  53   1   9 121  22\n",
      "   1  99 981  19   1   2 981   6 209  43 520   9   1   2   1   6   1   1\n",
      "  13   2  20 618  15  74   3  15   1  15   9 760   3  29 353   1   2   1\n",
      "   5   1  12 116   7 389  34 504   5   1   3   2 106   1  12  72  94   9\n",
      "   7   4 163  78   1 119  53  74   3   1   1  13  45  23  24 280  16 216\n",
      "  42  16   1 477  11   7  22   2  20  16  23 186  45  23 344   1 198   3\n",
      "   1  95  12  24  22 889   3 201   1  11   7   4  85  20   6 104]\n",
      "\n"
     ]
    }
   ],
   "source": [
    "# Print the first 20 values of the vocabulary\n",
    "vocab = np.array(encoder.get_vocabulary())\n",
    "print(vocab[:20])\n",
    "print('\\n\\n')\n",
    "\n",
    "# Print a sample and its numeric representation.\n",
    "for batch, batch_labels in train_dataset.take(1):\n",
    "    example = batch[0]\n",
    "    encoded_example = encoder(example).numpy()\n",
    "    print(example.numpy())\n",
    "    print(encoded_example)\n",
    "    print()"
   ]
  },
  {
   "cell_type": "markdown",
   "metadata": {},
   "source": [
    "## Rebuild our RNN With the Text Vectorization\n",
    "\n",
    "Now we need to add our text vectorization step to the model. Alternatively, we could manually transform our data using the encoder before training, which may save a bit of time ultimately but isn't as pretty in the code."
   ]
  },
  {
   "cell_type": "code",
   "execution_count": 8,
   "metadata": {},
   "outputs": [
    {
     "name": "stdout",
     "output_type": "stream",
     "text": [
      "Epoch 1/10\n",
      "391/391 [==============================] - 139s 352ms/step - loss: 0.6928 - accuracy: 0.5166 - val_loss: 0.6955 - val_accuracy: 0.4938\n",
      "Epoch 2/10\n",
      "391/391 [==============================] - 131s 335ms/step - loss: 0.6912 - accuracy: 0.5217 - val_loss: 0.6892 - val_accuracy: 0.5562\n",
      "Epoch 3/10\n",
      "391/391 [==============================] - 130s 333ms/step - loss: 0.6779 - accuracy: 0.5736 - val_loss: 0.6884 - val_accuracy: 0.5479\n",
      "Epoch 4/10\n",
      "391/391 [==============================] - 127s 324ms/step - loss: 0.6639 - accuracy: 0.6154 - val_loss: 0.5283 - val_accuracy: 0.7552\n",
      "Epoch 5/10\n",
      "391/391 [==============================] - 124s 318ms/step - loss: 0.4547 - accuracy: 0.8010 - val_loss: 0.3788 - val_accuracy: 0.8328\n",
      "Epoch 6/10\n",
      "391/391 [==============================] - 123s 315ms/step - loss: 0.3562 - accuracy: 0.8477 - val_loss: 0.5333 - val_accuracy: 0.7359\n",
      "Epoch 7/10\n",
      "391/391 [==============================] - 125s 319ms/step - loss: 0.3626 - accuracy: 0.8479 - val_loss: 0.3927 - val_accuracy: 0.8219\n",
      "Epoch 8/10\n",
      "391/391 [==============================] - 123s 315ms/step - loss: 0.3233 - accuracy: 0.8668 - val_loss: 0.3438 - val_accuracy: 0.8599\n",
      "Epoch 9/10\n",
      "391/391 [==============================] - 123s 315ms/step - loss: 0.3013 - accuracy: 0.8735 - val_loss: 0.3456 - val_accuracy: 0.8583\n",
      "Epoch 10/10\n",
      "391/391 [==============================] - 123s 314ms/step - loss: 0.2887 - accuracy: 0.8817 - val_loss: 0.3557 - val_accuracy: 0.8490\n"
     ]
    }
   ],
   "source": [
    "# This might be the first time we've used this style of initializing the model\n",
    "# where we pass the layers as an array to the Sequential constructor...\n",
    "model = keras.Sequential([\n",
    "    encoder,\n",
    "    # Mask_zero is required to support variable length input\n",
    "    layers.Embedding(input_dim=len(encoder.get_vocabulary()), output_dim=64, mask_zero=True),\n",
    "    layers.SimpleRNN(128, return_sequences=False),\n",
    "    layers.Dense(64, activation='relu'),\n",
    "    layers.Dense(1, activation='sigmoid')\n",
    "])\n",
    "\n",
    "model.compile(\n",
    "    loss=tf.keras.losses.BinaryCrossentropy(from_logits=True),\n",
    "    optimizer=tf.keras.optimizers.Adam(1e-4),\n",
    "    metrics=['accuracy']\n",
    ")\n",
    "\n",
    "history = model.fit(\n",
    "    train_dataset, \n",
    "    epochs=10,\n",
    "    validation_data=test_dataset, \n",
    "    validation_steps=30\n",
    ")"
   ]
  },
  {
   "cell_type": "markdown",
   "metadata": {},
   "source": [
    "## Note:\n",
    "\n",
    "RNN's are SLOW to train, even this very small model took 2 minutes per epoch. Making matters worse, because RNNs by their nature have dependency over \"time\" (in our case later words in the sentence depend on earlier words) the training and inference processes are not nearly as parallelizable as other models like CNNs.\n",
    "\n",
    "This is one of the reasons that Transformers have become popular in recent years for similar tasks. Similarly, some specialized CNN architectures are also performing quite well on sequence tasks, but are much less costly to train as they take much better advantage of modern GPU/TPU chip design."
   ]
  },
  {
   "cell_type": "code",
   "execution_count": 9,
   "metadata": {},
   "outputs": [
    {
     "name": "stdout",
     "output_type": "stream",
     "text": [
      "391/391 [==============================] - 38s 97ms/step - loss: 0.3543 - accuracy: 0.8474\n",
      "Test Loss: 0.3543233871459961\n",
      "Test Accuracy: 0.8474000096321106\n"
     ]
    },
    {
     "data": {
      "text/plain": [
       "(0.0, 0.715691140294075)"
      ]
     },
     "execution_count": 9,
     "metadata": {},
     "output_type": "execute_result"
    },
    {
     "data": {
      "image/png": "[encoded data removed]",
      "text/plain": [
       "<Figure size 1152x576 with 2 Axes>"
      ]
     },
     "metadata": {
      "needs_background": "light"
     },
     "output_type": "display_data"
    }
   ],
   "source": [
    "import matplotlib.pyplot as plt\n",
    "\n",
    "def plot_graphs(history, metric):\n",
    "    plt.plot(history.history[metric])\n",
    "    plt.plot(history.history['val_'+metric], '')\n",
    "    plt.xlabel(\"Epochs\")\n",
    "    plt.ylabel(metric)\n",
    "    plt.legend([metric, 'val_'+metric])\n",
    "    \n",
    "\n",
    "\n",
    "test_loss, test_acc = model.evaluate(test_dataset)\n",
    "\n",
    "print('Test Loss: {}'.format(test_loss))\n",
    "print('Test Accuracy: {}'.format(test_acc))\n",
    "\n",
    "plt.figure(figsize=(16,8))\n",
    "plt.subplot(1,2,1)\n",
    "plot_graphs(history, 'accuracy')\n",
    "plt.ylim(None,1)\n",
    "plt.subplot(1,2,2)\n",
    "plot_graphs(history, 'loss')\n",
    "plt.ylim(0,None)\n"
   ]
  },
  {
   "cell_type": "markdown",
   "metadata": {},
   "source": [
    "## Mini Exercise: Build One\n",
    "\n",
    "Build and train an RNN of your own that uses more than one SimpleRNN layer stacked on top of each other. Note that on the first of these stacked layers you'll need to change the return_sequence parameter to true: `layers.SimpleRNN(128, return_sequences=True)`\n",
    "\n",
    "This change causes the first RNN layer to produce an output at every timestep, whereas when it is set to false we were only returning an output after all the items in the sequence had been processed. (see the above many-to-one diagram for a visualization). You'd also want to use this parameter when you're using an RNN to predict a sequence, rather than a single value (see one to many, many to many in the above diagram)."
   ]
  },
  {
   "cell_type": "code",
   "execution_count": null,
   "metadata": {},
   "outputs": [],
   "source": []
  }
 ],
 "metadata": {
  "kernelspec": {
   "display_name": "Python 3",
   "language": "python",
   "name": "python3"
  },
  "language_info": {
   "codemirror_mode": {
    "name": "ipython",
    "version": 3
   },
   "file_extension": ".py",
   "mimetype": "text/x-python",
   "name": "python",
   "nbconvert_exporter": "python",
   "pygments_lexer": "ipython3",
   "version": "3.8.5"
  }
 },
 "nbformat": 4,
 "nbformat_minor": 4
}
