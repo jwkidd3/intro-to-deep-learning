{
 "cells": [
  {
   "cell_type": "markdown",
   "metadata": {},
   "source": [
    "# Intro to Reinforcement Learning\n",
    "\n",
    "Reinforcement learning requires us to model our problem using the following two constructs:\n",
    "\n",
    "* An agent, the thing that makes decisions.\n",
    "* An environment, the world which encodes what decisions can be made, and the impact of those decisions.  \n",
    "\n",
    "The environment contains all the possible states, knows all the actions that can be taken from each state, and knows when rewards should be given and what the magnitude of those rewards should be. An agent gets this information from the environment by exploring and learns from experience which states provide the best rewards. Rewards slowly percolate outward to neighboring states iteratively, which helps the agent make decisions over longer time horizons.\n",
    "\n",
    "## The Agent/Environment Interface\n",
    "\n",
    "![The agent-env interface](images/env-agent.png)\n",
    "\n",
    "> Image Source: [Reinforcement Learning:An Introduction](http://incompleteideas.net/book/bookdraft2017nov5.pdf)\n"
   ]
  },
  {
   "cell_type": "markdown",
   "metadata": {},
   "source": [
    "Reinforcement learning typically takes place over a number of episodes—which are rougly analogous to an epoch. In most situations for RL, there are some \"terminal\" states within the environment which indicate the end of an episode. In games for example, this happens when the game ends. For example when Mario gets killed or reaches the end of the level. Or in chess when someone is put into checkmate or conceeds. An episode ends when an agent reaches one of these terminal states.\n",
    "\n",
    "An episode is compirsed of the agent making a series of decisions until it reaches one of these terminal states. Sometimes engineers may choose to terminate an episode after a maximum number of decisions, especially if there is a strong chance that the agent will never reach a terminal state. \n",
    "\n",
    "## Markov Decsion Processes\n",
    "\n",
    "Formally, the problems that reinforcement learning is best at solving are modeled by Markov Decision Processes (MDP).  MDPs are a special kind of graph that are similar to State Machines. MDPs have two kinds of nodes, states and actions. From any given state an agent can select from only the available actions, those actions will take an agent to another state. These transitions from actions to states are frequently stochastic—meaning taking a particular action might lead you to one of several states based on some probabilistic function. \n",
    "\n",
    "Transitions from state to state can be associated with a reward but they are not required to be. Many MDPs have terminal states, but those are not formally required either.\n",
    "\n",
    "![Sample MDP](images/mdp.png)\n",
    "\n",
    "> Image Source: [Wikimedia commons, public domain](https://commons.wikimedia.org/wiki/File:Markov_Decision_Process_example.png)\n",
    "\n",
    "This MDP has 3 states (larger green nodes S0, S1, S2), each state has exactly 2 actions available (smaller red nodes, a0, a1), and two transitions have rewards (from S2a1 -> S0 has -1 reward, from S1a0 -> S0 has +5 reward). "
   ]
  },
  {
   "cell_type": "markdown",
   "metadata": {},
   "source": [
    "## Finding a Policy\n",
    "\n",
    "The reinforcment learning algorithm we're going to focus on (Q-Learning) is a \"policy based\" agent. This means, it's goal is to discover which decision is the \"best\" decision to make at any given state. Sometimes, this goal is a little naive, for example if the state-spaces is evolving in real time, it may not be possible to determine a \"best\" policy. In the above MDP, though, there IS an optimal policy... What is it?"
   ]
  },
  {
   "cell_type": "markdown",
   "metadata": {},
   "source": [
    "### Optimal Policy For the Above:\n",
    "\n",
    "The only way to gain a positive reward is to take the transition S1a0 -> S0. That gives us +5 70% of the time. \n",
    "\n",
    "Getting to S1 requires a risk though: the only way to get to S1 is by taking a1 from S2, which has a 30% chance of landing us back at S0 with a -1 reward. \n",
    "\n",
    "We can easily oscilate infinitely between S0 and S2 with zero reward by taking only S0a1, S0a0, and S2a0 repeatedly. So the question is: is the risk worth the reward? \n",
    "\n",
    "Say we're in S1, we can get +5 70% of the time by taking a0. That's an expected value of 3.5 if our policy is always take action a0. If we're in S2, then, we can get an expected value of 3.5 30% of the time, and a -1 30% of the time by always taking action a1: \n",
    "\n",
    "`(.3 * 3.5) + (.3 * -1) = 1.05 - .3 = .75`\n",
    "\n",
    "So intiutively we should go ahead and take the risky action to gain the net-positive reward. **But wait!** Both of our actions are *self-referential* and might lead us back to the original state... how do we account for that? \n",
    "\n",
    "For the mathematical purists, we can use something called the Bellman Optimality Equation. Intuitively, the Bellman optimality equation expresses the fact that the value of a state under an optimal policy must equal the expected return for the best action from that state:\n",
    "\n",
    "For the value of states:\n",
    "\n",
    "![optimial state value](images/v-bellman.png)\n",
    "\n",
    "For the state-action pairs:\n",
    "\n",
    "![optimal-state-action values](images/q-bellman.png)\n",
    "\n",
    "> For a more complete treatment of these equations, see [Chapter 3.6 of this book](http://incompleteideas.net/book/bookdraft2017nov5.pdf)\n",
    "\n",
    "Several bits of notation were just introduced:\n",
    "\n",
    "* The Discount Factor (γ) — some value between 0 and 1, which is required for convergance.\n",
    "* The expected return (Gt) — the value we want to optimize.\n",
    "* The table of state-action pairs (Q) — these are the values of being in a state and taking a given action.\n",
    "* The table of state values (V*) — these are based on the Q-values from the Q-table based on taking the best action.\n",
    "* The policy is represented by π — our policy is what our agent thinks is the best action\n",
    "* S and S' both represent states, the current state (S) and the next state (S') for any given state-action pair.\n",
    "* r represents a reward for a given transition.\n",
    "\n",
    "Solving this series of equations is computationally unrealistic for most problems of any real size. It is an iterative process that will only converge if the discount factor λ is between 0 and 1, and even then often it converges slowly. The most common algorithm for solving the Bellman equations directly is called Value Iteration, and it is much like what we did above, but we'd apply that logic repeatedly, for every state-action pair, and we'd have to apply a discount factor to the expected values we computed.\n",
    "\n",
    "Value iteration is never used in practice. Instead we use Q-learning to experimentally explore states, essentially we attempt to partially solve the above Bellman equations. For a more complete treatment of value iteration, see the book linked above. \n"
   ]
  },
  {
   "cell_type": "markdown",
   "metadata": {},
   "source": [
    "In my opinion, it is much easier, and much more helpful to see Q-Learning in action than it is to pour over the dense and confusing mathematical notation above. Q-Learning is actually wonderfully intuitive when you take a step back from the math.  "
   ]
  },
  {
   "cell_type": "code",
   "execution_count": null,
   "metadata": {},
   "outputs": [],
   "source": []
  }
 ],
 "metadata": {
  "kernelspec": {
   "display_name": "Python 3",
   "language": "python",
   "name": "python3"
  },
  "language_info": {
   "codemirror_mode": {
    "name": "ipython",
    "version": 3
   },
   "file_extension": ".py",
   "mimetype": "text/x-python",
   "name": "python",
   "nbconvert_exporter": "python",
   "pygments_lexer": "ipython3",
   "version": "3.7.3"
  }
 },
 "nbformat": 4,
 "nbformat_minor": 2
}
